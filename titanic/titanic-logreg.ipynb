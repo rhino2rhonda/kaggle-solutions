{
  "cells": [
    {
      "metadata": {
        "_uuid": "8f2839f25d086af736a60e9eeb907d3b93b6e0e5",
        "_cell_guid": "b1076dfc-b9ad-4769-8c92-a6c4dae69d19",
        "trusted": false,
        "collapsed": true
      },
      "cell_type": "code",
      "source": "# This Python 3 environment comes with many helpful analytics libraries installed\n# It is defined by the kaggle/python docker image: https://github.com/kaggle/docker-python\n# For example, here's several helpful packages to load in \n\nimport numpy as np # linear algebra\nimport pandas as pd # data processing, CSV file I/O (e.g. pd.read_csv)\n\nimport matplotlib.pyplot as plt\n\n# Input data files are available in the \"../input/\" directory.\n# For example, running this (by clicking run or pressing Shift+Enter) will list the files in the input directory\n\nimport os\nprint(os.listdir(\"../input\"))\n\n# Any results you write to the current directory are saved as output.",
      "execution_count": null,
      "outputs": []
    },
    {
      "metadata": {
        "_uuid": "d629ff2d2480ee46fbb7e2d37f6b5fab8052498a",
        "_cell_guid": "79c7e3d0-c299-4dcb-8224-4455121ee9b0",
        "trusted": false,
        "collapsed": true
      },
      "cell_type": "code",
      "source": "# Read training and test data\ndef read_data():\n    data_dir = '../input'\n\n    train_path = os.path.join(data_dir, 'train.csv')\n    train_orig = pd.read_csv(train_path)\n    print('Train Data Orig Shape:', train_orig.shape)\n\n    test_path = os.path.join(data_dir, 'test.csv')\n    test_orig = pd.read_csv(test_path)\n    print('Test Data Orig Shape:', test_orig.shape)\n    \n    return train_orig, test_orig\n\nif True:\n    train_orig, test_orig = read_data()",
      "execution_count": null,
      "outputs": []
    },
    {
      "metadata": {
        "_uuid": "503b864ba6354de772b555701f7e72cbf64aed31",
        "_cell_guid": "ff75381b-a8e5-4839-838d-1db769bcafd7",
        "scrolled": false,
        "trusted": false,
        "collapsed": true
      },
      "cell_type": "code",
      "source": "# Prepare Dev Set\n# Could also use : sklearn.model_selection.train_test_split(*arrays, **options)\ndef split_data(data, split_ratio=0.9):\n    data = data.sample(frac=1)\n    \n    train_data = data.iloc[:int(data.shape[0]*split_ratio),:]\n    print('Train Data Shape:', train_data.shape)\n\n    dev_data = data.iloc[train_data.shape[0]:,:]\n    print('Dev Data Shape:', dev_data.shape)\n    \n    assert len(dev_data.index.intersection(train_data.index)) == 0\n    return train_data, dev_data\n    \nif True:\n    train_data, dev_data = split_data(train_orig, split_ratio=0.5)",
      "execution_count": null,
      "outputs": []
    },
    {
      "metadata": {
        "collapsed": true,
        "_cell_guid": "c8cdb1d4-56a5-4a99-b3c9-2eb843478e07",
        "_uuid": "2acac90d3aba6531e6460e70a9b6a88421d18123",
        "trusted": false
      },
      "cell_type": "code",
      "source": "def preprocess(data, norms=None, test=False):\n    ageMean = ageStd = fareMean = fareStd = None\n    if norms is not None:\n        ageMean, ageStd, fareMean, fareStd = norms\n    \n    temp = data.copy()\n    \n    temp['Pclass'] -= 2\n    \n    temp['Sex'] = (temp['Sex'].astype('category').cat.codes*2) -1\n    \n    if ageMean is None:\n        ageMean = temp['Age'].mean()\n    if ageStd is None:\n        ageStd = temp['Age'].std()\n    temp.loc[temp['Age'].isnull(), 'Age'] = ageMean\n    temp['Age'] = (temp['Age'] - ageMean) / ageStd\n    \n    temp['SibSp'] = (temp['Parch'] / 4) - 1\n    temp['Parch'] = (temp['Parch'] / 3) - 1 \n    \n    if fareMean is None:\n        fareMean = temp['Fare'].mean()\n    if fareStd is None:\n        fareStd = temp['Fare'].std()\n    temp.loc[temp['Fare'].isnull(), 'Fare'] = fareMean\n    temp['Fare'] = (temp['Fare'] - fareMean) / fareStd\n    \n    temp.loc[temp['Embarked'].isnull(), 'Embarked'] = 'S'\n    temp['Embarked'] = temp['Embarked'].astype('category').cat.codes - 1\n    \n    cols = ['Pclass', 'Sex', 'Age', 'SibSp', 'Parch', 'Fare', 'Embarked']\n    if not test:\n        cols.append('Survived')\n    temp = temp[cols]\n    \n    norms = (ageMean, ageStd, fareMean, fareStd)\n    return temp, norms\n\nif True:\n    train_data, norms = preprocess(train_data)\n    dev_data, _ = preprocess(dev_data, norms)\n    test_data, _ = preprocess(test_orig, norms, test=True)",
      "execution_count": null,
      "outputs": []
    },
    {
      "metadata": {
        "collapsed": true,
        "_cell_guid": "3aecd557-9d12-4e77-9232-98dc5437d7d4",
        "_uuid": "412e9fa2672d317c725e54bc6a92ae8922ccd846",
        "trusted": false
      },
      "cell_type": "code",
      "source": "# Plot train data\n%pylab inline\npylab.rcParams['figure.figsize'] = (20, 6)\nif True:\n    x = 'Fare'\n    y = 'Age'\n    survived_data = train_data[train_data['Survived'] == 1]\n    plt.scatter(survived_data[x],survived_data[y], color='green', marker='o')\n    not_survived_data = train_data[train_data['Survived'] == 0]\n    plt.scatter(not_survived_data[x],not_survived_data[y], color='red', marker='x')",
      "execution_count": null,
      "outputs": []
    },
    {
      "metadata": {
        "_uuid": "dbc7925482c80503ea27b1cdc100539c1e1bcb86",
        "_cell_guid": "f93b44de-d6c4-4c34-91a3-2f1dc995ef00",
        "trusted": false,
        "collapsed": true
      },
      "cell_type": "code",
      "source": "def prepare_data(data):\n    X = data.drop(['Survived'], axis=1).as_matrix()\n    Y = data['Survived'].as_matrix().reshape(-1, 1)\n    print('Shape X: {}, Y: {}'.format(X.shape, Y.shape))\n    return X, Y\nif True:\n    X, Y = prepare_data(train_data)\n    X_dev, Y_dev = prepare_data(dev_data)\n    X_test = test_data.as_matrix()\n    print('Shape X test: {}'.format(X_test.shape))\n    m, n = X.shape\n    m_dev = X_dev.shape[0]\n    m_test = X_test.shape[0]\n    print('m:{}, n:{}, m_dev:{}, m_test:{}'.format(m, n, m_dev, m_test))",
      "execution_count": null,
      "outputs": []
    },
    {
      "metadata": {
        "collapsed": true,
        "_cell_guid": "ac32dc9a-53d8-43f4-a8e9-77afe115a424",
        "_uuid": "4b6f18403e9d767fe4c26c69afcdaa71b6db1a28",
        "trusted": false
      },
      "cell_type": "code",
      "source": "def init_weights(n):\n    return np.zeros((n, 1)), 0\nif False:\n    W, b = init_weights(n)",
      "execution_count": null,
      "outputs": []
    },
    {
      "metadata": {
        "collapsed": true,
        "_cell_guid": "83291d19-440d-40ae-94e4-0c4b919b4002",
        "_uuid": "6bf10eeee47ef9a515233762b90528482aafb6e9",
        "trusted": false
      },
      "cell_type": "code",
      "source": "def sigmoid(z):\n    return 1 / (1 + np.exp(-1 * z))\n# print('Sigmoid -10', sigmoid(-10))\n# print('Sigmoid 10', sigmoid(10))\n# print('Sigmoid 0', sigmoid(0))\n# print('Sigmoid arr', sigmoid(np.array([-10, 0, 10])))",
      "execution_count": null,
      "outputs": []
    },
    {
      "metadata": {
        "collapsed": true,
        "_cell_guid": "fccd012a-1e21-4dba-9054-87ed21f15856",
        "_uuid": "86de2fed69c2c1225a7463f87accd3dc9673fc81",
        "trusted": false
      },
      "cell_type": "code",
      "source": "def compute_cost(X, Y, W, b):\n    m = X.shape[0]\n#     print('m=', m)\n#     print(W.shape)\n#     print(X, W, b)\n    Z = np.dot(X, W) + b\n#     print(Z)\n    A = sigmoid(Z)\n#     print(A)\n    return -1 * ((Y * np.log(A)) + ((1-Y) * np.log(1-A))).sum() / m\nif False:\n    debug_cost = compute_cost(np.array([1,2,3,4]).reshape(2,2), np.array([1, 0]).reshape(2,1), np.array([0, 1]).reshape(2,1), 1)\n    print('Debug cost (Expected 2.5276513500314395):', debug_cost)\n# if True:\n#     debug_cost1 = compute_cost(np.array([1,2,3,4]).reshape(2,2), np.array([1, 0]).reshape(2,1), np.array([0 + 1.e-7, 1]).reshape(2,1), 1)\n#     debug_cost2 = compute_cost(np.array([1,2,3,4]).reshape(2,2), np.array([1, 0]).reshape(2,1), np.array([0 - 1.e-7, 1]).reshape(2,1), 1)\n#     print('grad numer: ', (debug_cost1 - debug_cost2) / (2.e-7))\n#     print('Debug cost', debug_cost1, debug_cost2)",
      "execution_count": null,
      "outputs": []
    },
    {
      "metadata": {
        "collapsed": true,
        "_cell_guid": "e38b5959-66a5-42f6-b2c9-e37a06976099",
        "_uuid": "3affad8c0ea20d55d9e59e2284027ee9ed201ead",
        "trusted": false
      },
      "cell_type": "code",
      "source": "def compute_grads(X, Y, W, b):\n    m = X.shape[0]\n    Z = np.dot(X, W) + b\n    A = sigmoid(Z)\n    dW = np.dot(X.T, A - Y) / m\n    db = (A-Y).sum() / m\n    return dW, db\nif False:\n    debug_grads = compute_grads(np.array([1,2,3,4]).reshape(2,2), np.array([1, 0]).reshape(2,1), np.array([0, 1]).reshape(2,1), 1)\n    print('Debug grads', debug_grads)",
      "execution_count": null,
      "outputs": []
    },
    {
      "metadata": {
        "collapsed": true,
        "_cell_guid": "d3be5779-e4e1-42b5-9edd-fc5b43df99ef",
        "_uuid": "19dde3461c76f21e05677d325cc99c23c379e1fb",
        "trusted": false
      },
      "cell_type": "code",
      "source": "def check_gradients(X, Y, W, b, dW, db, epsilon=1.e-7):\n    dW_numer, db_numer = np.zeros(dW.shape), 0\n    for i in range(dW.shape[0]):\n        dW_temp = dW.copy()\n#         print(i)\n#         print(dW_temp)\n        dW_temp.reshape(-1)[i] += epsilon\n#         print(dW_temp)\n        cost_right = compute_cost(X, Y, dW_temp, b)\n        dW_temp = dW.copy()\n        dW_temp.reshape(-1)[i] -= epsilon\n#         print(dW_temp)\n        cost_left = compute_cost(X, Y, dW_temp, b)\n        dW_numer.reshape(-1)[i] = (cost_right - cost_left) / (2 * epsilon)\n    cost_right = compute_cost(X, Y, dW, b + epsilon)\n    cost_left = compute_cost(X, Y, dW, b - epsilon)\n    db_numer = (cost_right - cost_left) / (2 * epsilon)\n    \n    orig_params = np.concatenate((dW, np.array(db).reshape(1,1)), axis=0)\n#     print(orig_params)\n    numer_params = np.concatenate((dW_numer, np.array(db_numer).reshape(1,1)), axis=0)\n#     print(numer_params)\n    return np.square(orig_params - numer_params).sum() / (np.square(orig_params).sum() + np.square(numer_params).sum())\n    \nif False:\n    _X, _Y, _W, _b = np.array([1,2,3,4]).reshape(2,2), np.array([1, 0]).reshape(2,1), np.array([0, 1]).reshape(2,1), 1\n    _dW, _db = compute_grads(_X, _Y, _W, _b)\n    l2_norm = check_gradients(_X, _Y, _W, _b, _dW, _db)\n    print('Check Gradients Score', l2_norm)",
      "execution_count": null,
      "outputs": []
    },
    {
      "metadata": {
        "collapsed": true,
        "_cell_guid": "c568faf1-9927-4fe0-91f8-ad9bb961bc83",
        "_uuid": "10243e0ab3e57358e2050cf7864e2be8c72e6e6c",
        "trusted": false
      },
      "cell_type": "code",
      "source": "def update_params(W, b, dW, db, lrate):\n    return W - (dW * lrate), b - (db * lrate)\nif False:\n    _W, _b = update_params(np.array([3,4]).reshape(2, 1), 5, np.array([0.1, 0.2]).reshape(2, 1), 2, 2)\n    print('Updated params:', _W, _b)",
      "execution_count": null,
      "outputs": []
    },
    {
      "metadata": {
        "_uuid": "d68e7ce55763f59aba82d96f324407a22d8cef27",
        "_cell_guid": "bcc584bf-71cf-4c24-ab4b-789560c4a5da",
        "trusted": false,
        "collapsed": true
      },
      "cell_type": "code",
      "source": "def optimize(X, Y, lrate, niters, X_dev, Y_dev, print_costs=True, check_grads=False):\n    m, n = X.shape\n    W, b = init_weights(n)\n    costs = []\n    costs_dev = []\n    for i in range(niters):\n        cost = compute_cost(X, Y, W, b)\n        costs.append(cost)\n        cost_dev = compute_cost(X_dev, Y_dev, W, b)\n        costs_dev.append(cost_dev)\n        if print_costs and i % 10 == 0:\n            print('Cost after {} iterations is {}'.format(i, cost))\n        dW, db = compute_grads(X, Y, W, b)\n        if check_grads and i % 10 == 0:\n            print('Gradient check score at iteration {} is {}'.format(i, check_gradients(X, Y, W, b, dW, db)))\n        W, b = update_params(W, b, dW, db, lrate)\n    return W, b, costs, costs_dev\nif True:\n    lrate = 0.05\n    niters = 400\n    W, b, costs, costs_dev = optimize(X, Y, lrate, niters, X_dev, Y_dev, check_grads=False)",
      "execution_count": null,
      "outputs": []
    },
    {
      "metadata": {
        "collapsed": true,
        "_cell_guid": "0f2fff3d-8257-4d89-8fd1-521ee36d9510",
        "_uuid": "825d1d3add97f613ae3ea36b3781e3e7eeb87b5d",
        "trusted": false
      },
      "cell_type": "code",
      "source": "print(compute_cost(X, Y, W, b))",
      "execution_count": null,
      "outputs": []
    },
    {
      "metadata": {
        "_uuid": "5e489f75ced6bdfaf50a9bcdf4d037cad5501380",
        "_cell_guid": "d0103bc8-739f-45ed-9b91-ca0a0ef549fa",
        "trusted": false,
        "collapsed": true
      },
      "cell_type": "code",
      "source": "%pylab inline\npylab.rcParams['figure.figsize'] = (20, 6)\ndef learning_curve(costs, costs_dev, niters):\n    x = np.arange(niters)\n    y = costs\n    plt.plot(x,y,color='blue')\n    y = costs_dev\n    plt.plot(x,y,color='green')\n    plt.show()\nif True:\n    learning_curve(costs, costs_dev, niters)",
      "execution_count": null,
      "outputs": []
    },
    {
      "metadata": {
        "collapsed": true,
        "_cell_guid": "4db1b51d-fd99-4b3c-927f-f1eaa757dda0",
        "_uuid": "7c69aeb04e64fe94860e969881c787302b736640",
        "trusted": false
      },
      "cell_type": "code",
      "source": "def predict(X, W, b):\n    Z = np.dot(X, W) + b\n    A = sigmoid(Z)\n    return np.where(A<=0.5, 0, 1)\nif True:\n    predictions = predict(X, W, b)\n    predictions_dev = predict(X_dev, W, b)",
      "execution_count": null,
      "outputs": []
    },
    {
      "metadata": {
        "_uuid": "390d93541a8cfcc8f33260081d1e564a53f19db3",
        "_cell_guid": "9819ead8-3d76-4ecd-a6e3-b84dc160b29d",
        "trusted": false,
        "collapsed": true
      },
      "cell_type": "code",
      "source": "def compute_accuracy(Y, predictions):\n    return (1 - (np.abs(Y - predictions).sum() / Y.shape[0])) * 100\nif True:\n    accuracy = compute_accuracy(Y, predictions)\n    accuracy_dev = compute_accuracy(Y_dev, predictions_dev)\n    print('Training Accuracy: {}%'.format(accuracy))\n    print('Dev Accuracy: {}%'.format(accuracy_dev))",
      "execution_count": null,
      "outputs": []
    },
    {
      "metadata": {
        "_uuid": "0c18b09452e75e1942ee9d437463cf47764cb53e",
        "_cell_guid": "217238c4-a65f-42f3-a6eb-eae6be554caa",
        "trusted": false,
        "collapsed": true
      },
      "cell_type": "code",
      "source": "data_dir = './'\nsumbission_path = os.path.join(data_dir, 'gender_submission_dev_eq_test.csv')\npredictions_test = predict(X_test, W, b)\nsubmission_data = test_orig[['PassengerId']]\nsubmission_data = submission_data.assign(Survived = pd.Series(predictions_test.reshape(-1)))\nsubmission_data.to_csv(sumbission_path, index=False)\nsubmission_data.columns",
      "execution_count": null,
      "outputs": []
    },
    {
      "metadata": {
        "collapsed": true,
        "_cell_guid": "524b622e-d0cd-4267-90a3-810dc4013eba",
        "_uuid": "58ba630c6b1bee4e65fbfdd635106b56e5be1068",
        "trusted": false
      },
      "cell_type": "code",
      "source": "data_dir = './'\nsumbission_path = os.path.join(data_dir, 'gender_submission_full_training.csv')\nsub_data = pd.read_csv(sumbission_path)\nsub_data",
      "execution_count": null,
      "outputs": []
    },
    {
      "metadata": {
        "collapsed": true,
        "_cell_guid": "c6acdd62-8e0e-4ae1-9636-b8c4595cf4ee",
        "_uuid": "7bedc4478273df5f60d0426d2d568f64694a3270",
        "trusted": false
      },
      "cell_type": "code",
      "source": "# Using 3rd party lib\nfrom sklearn.linear_model import LogisticRegression\nmodel = LogisticRegression()\nmodel = model.fit(X, Y.reshape(-1))",
      "execution_count": null,
      "outputs": []
    },
    {
      "metadata": {
        "_uuid": "c3126bfd3866083a8d981cc74abf7f26a79ef748",
        "_cell_guid": "60994428-70e5-435a-9e87-f3da3c6746e1",
        "trusted": false,
        "collapsed": true
      },
      "cell_type": "code",
      "source": "model.score(X, Y.reshape(-1))",
      "execution_count": null,
      "outputs": []
    },
    {
      "metadata": {
        "collapsed": true,
        "_cell_guid": "9f2a89fc-e8e9-430d-8bb8-e3df6a92cc60",
        "_uuid": "60af6dfcd3d29640709a4c7016d0e38518c8e001",
        "trusted": false
      },
      "cell_type": "code",
      "source": "",
      "execution_count": null,
      "outputs": []
    }
  ],
  "metadata": {
    "language_info": {
      "nbconvert_exporter": "python",
      "codemirror_mode": {
        "version": 3,
        "name": "ipython"
      },
      "name": "python",
      "mimetype": "text/x-python",
      "pygments_lexer": "ipython3",
      "version": "3.6.4",
      "file_extension": ".py"
    },
    "kernelspec": {
      "display_name": "Python 3",
      "language": "python",
      "name": "python3"
    }
  },
  "nbformat": 4,
  "nbformat_minor": 1
}